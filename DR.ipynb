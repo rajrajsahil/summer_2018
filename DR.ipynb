{
 "cells": [
  {
   "cell_type": "code",
   "execution_count": 47,
   "metadata": {},
   "outputs": [
    {
     "name": "stdout",
     "output_type": "stream",
     "text": [
      "The autoreload extension is already loaded. To reload it, use:\n",
      "  %reload_ext autoreload\n"
     ]
    }
   ],
   "source": [
    "import numpy as np\n",
    "import data_util\n",
    "import tensorflow as tf\n",
    "import matplotlib.pyplot as plt\n",
    "\n",
    "%matplotlib inline\n",
    "\n",
    "%load_ext autoreload\n",
    "%autoreload 2"
   ]
  },
  {
   "cell_type": "code",
   "execution_count": 66,
   "metadata": {
    "scrolled": true
   },
   "outputs": [
    {
     "name": "stdout",
     "output_type": "stream",
     "text": [
      "Training data shape (10000, 32, 32, 3)\n",
      "Training label shape (10000,)\n"
     ]
    }
   ],
   "source": [
    "DR_dataset_dir = 'diabetic_dataset'\n",
    "X_train,Y_train = data_util.load_dr_dataset(DR_dataset_dir)\n",
    "print('Training data shape',X_train.shape)\n",
    "print('Training label shape',Y_train.shape)\n",
    "batch_size,height,width,channels=X_train.shape\n",
    "filters = np.random.randn(3,3,channels,3)"
   ]
  },
  {
   "cell_type": "code",
   "execution_count": 70,
   "metadata": {},
   "outputs": [
    {
     "name": "stdout",
     "output_type": "stream",
     "text": [
      "(10, 32, 32, 3)\n"
     ]
    },
    {
     "data": {
      "image/png": "[encoded data removed]",
      "text/plain": [
       "<Figure size 432x288 with 1 Axes>"
      ]
     },
     "metadata": {},
     "output_type": "display_data"
    }
   ],
   "source": [
    "conv_filter_1 = np.array(filters)\n",
    "X = tf.placeholder(tf.float32)\n",
    "convolution_1 = tf.nn.conv2d(X,conv_filter_1,strides=[1,1,1,1],padding='SAME')\n",
    "with tf.Session() as sess:\n",
    "    output_1 = sess.run(convolution_1,{X:X_train[0:10,:,:,:]})\n",
    "print(output_1.shape)\n",
    "plt.imshow(output_1[0,:,:,0])\n",
    "plt.show()"
   ]
  },
  {
   "cell_type": "code",
   "execution_count": 72,
   "metadata": {},
   "outputs": [
    {
     "name": "stdout",
     "output_type": "stream",
     "text": [
      "(10, 16, 16, 3)\n"
     ]
    },
    {
     "data": {
      "image/png": "[encoded data removed]",
      "text/plain": [
       "<Figure size 432x288 with 1 Axes>"
      ]
     },
     "metadata": {},
     "output_type": "display_data"
    }
   ],
   "source": [
    "max_pool = tf.nn.max_pool(X,ksize=[1,2,2,1],strides=[1,2,2,1],padding=\"VALID\")\n",
    "with tf.Session() as sess:\n",
    "    output_1_pool = sess.run(max_pool,{X:X_train[0:10,:,:,:]})\n",
    "print(output_1_pool.shape)\n",
    "plt.imshow(output_1_pool[0,:,:,0])\n",
    "plt.show()"
   ]
  },
  {
   "cell_type": "code",
   "execution_count": 78,
   "metadata": {},
   "outputs": [
    {
     "name": "stdout",
     "output_type": "stream",
     "text": [
      "(10, 16, 16, 3)\n"
     ]
    },
    {
     "data": {
      "image/png": "[encoded data removed]",
      "text/plain": [
       "<Figure size 432x288 with 1 Axes>"
      ]
     },
     "metadata": {},
     "output_type": "display_data"
    }
   ],
   "source": [
    "conv_filter_2 = np.array(filters)\n",
    "convolution_2 = tf.nn.conv2d(X,conv_filter_2,strides=[1,1,1,1],padding=\"SAME\")\n",
    "with tf.Session() as sess:\n",
    "    output_2 = sess.run(convolution_2,{X:output_1_pool})\n",
    "print(output_2.shape)\n",
    "plt.imshow(output_2[0,:,:,0])\n",
    "plt.show()"
   ]
  },
  {
   "cell_type": "code",
   "execution_count": null,
   "metadata": {},
   "outputs": [],
   "source": []
  }
 ],
 "metadata": {
  "kernelspec": {
   "display_name": "Python 3",
   "language": "python",
   "name": "python3"
  },
  "language_info": {
   "codemirror_mode": {
    "name": "ipython",
    "version": 3
   },
   "file_extension": ".py",
   "mimetype": "text/x-python",
   "name": "python",
   "nbconvert_exporter": "python",
   "pygments_lexer": "ipython3",
   "version": "3.5.2"
  }
 },
 "nbformat": 4,
 "nbformat_minor": 2
}
