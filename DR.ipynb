{
 "cells": [
  {
   "cell_type": "code",
   "execution_count": 1,
   "metadata": {},
   "outputs": [
    {
     "name": "stdout",
     "output_type": "stream",
     "text": [
      "(2, 2560, 1920, 3)\n"
     ]
    }
   ],
   "source": [
    "import numpy as np\n",
    "import data_util\n",
    "import image_data\n",
    "import tensorflow as tf\n",
    "import matplotlib.pyplot as plt\n",
    "\n",
    "%matplotlib inline\n",
    "\n",
    "%load_ext autoreload\n",
    "%autoreload 2\n",
    "\n",
    "arr = image_data.dr_img_dataset()\n",
    "arr = np.array(arr)\n",
    "print(arr.shape)\n",
    "# plt.imshow(arr[0].astype('uint8'))\n",
    "# plt.show()"
   ]
  },
  {
   "cell_type": "code",
   "execution_count": 2,
   "metadata": {
    "scrolled": true
   },
   "outputs": [
    {
     "name": "stdout",
     "output_type": "stream",
     "text": [
      "Training data shape (10000, 32, 32, 3)\n",
      "Training label shape (10000,)\n"
     ]
    }
   ],
   "source": [
    "DR_dataset_dir = 'diabetic_dataset'\n",
    "X_train,Y_train = data_util.load_dr_dataset(DR_dataset_dir)\n",
    "print('Training data shape',X_train.shape)\n",
    "print('Training label shape',Y_train.shape)\n",
    "batch_size,height,width,channels=X_train.shape\n",
    "filters = np.random.rand(3,3,channels,3)*0.01\n",
    "# filters = tf.get_variable(\"filters\", shape=[3,3,channels,3],initializer=tf.contrib.layers.xavier_initializer())\n",
    "X_train = X_train - np.mean(X_train,axis = 0)\n",
    "X_train = X_train.astype(np.float32)\n",
    "# print(type(X_train[0][0][0][0]))"
   ]
  },
  {
   "cell_type": "code",
   "execution_count": 7,
   "metadata": {
    "scrolled": false
   },
   "outputs": [
    {
     "name": "stdout",
     "output_type": "stream",
     "text": [
      "(1, 528)\n"
     ]
    }
   ],
   "source": [
    "# with tf.Session() as sess:\n",
    "#     initializer = tf.contrib.layers.xavier_initializer()\n",
    "#     conv_filter_1 = tf.Variable(initializer(filters.shape))\n",
    "#     conv_filter_2 = tf.Variable(initializer(filters.shape))\n",
    "\n",
    "conv_filter_1 = tf.Variable(np.array(filters),dtype=np.float32,name='conv_filter_1')\n",
    "conv_filter_2 = tf.Variable(np.array(filters),dtype=np.float32,name='conv_filter_2')\n",
    "conv_filter_3 = tf.Variable(np.array(filters),dtype=np.float32,name='conv_filter_3')\n",
    "conv_filter_4 = tf.Variable(np.array(filters),dtype=np.float32,name='conv_filter_4')\n",
    "conv_filter_5 = tf.Variable(np.array(filters),dtype=np.float32,name='conv_filter_5')\n",
    "conv_filter_6 = tf.Variable(np.array(filters),dtype=np.float32,name='conv_filter_6')\n",
    "conv_filter_7 = tf.Variable(np.array(filters),dtype=np.float32,name='conv_filter_7')\n",
    "conv_filter_8 = tf.Variable(np.array(filters),dtype=np.float32,name='conv_filter_8')\n",
    "\n",
    "num_output_class = 2\n",
    "X = tf.placeholder(tf.float32)\n",
    "convolution_1 = tf.nn.relu(tf.nn.conv2d(X,conv_filter_1,strides=[1,1,1,1],padding='SAME',name='convolution_1'))\n",
    "# with tf.Session() as sess:\n",
    "#     output_1 = sess.run(convolution_1,{X:X_train[0:1,:,:,:]})\n",
    "# print(output_1.shape)\n",
    "# plt.imshow(output_1[0,:,:,0].astype('uint8'))\n",
    "# plt.show()\n",
    "output_1_pool = tf.nn.max_pool(convolution_1,ksize=[1,2,2,1],strides=[1,2,2,1],padding=\"VALID\",name='output_1_pool')\n",
    "# with tf.Session() as sess:\n",
    "#     output_1_pool = sess.run(max_pool,{X:output_1})\n",
    "# print(output_1_pool.shape)\n",
    "# plt.imshow(output_1_pool[0,:,:,0].astype('uint8'))\n",
    "# plt.show()\n",
    "\n",
    "convolution_2 = tf.nn.relu(tf.nn.conv2d(output_1_pool,conv_filter_2,strides=[1,1,1,1],padding=\"VALID\",name='convolution_2'))\n",
    "output_2_pool = tf.nn.max_pool(convolution_2,ksize=[1,2,2,1],strides=[1,2,2,1],padding=\"VALID\",name='output_2_pool')\n",
    "convolution_3 = tf.nn.relu(tf.nn.conv2d(output_2_pool,conv_filter_3,strides=[1,1,1,1],padding=\"VALID\",name='convolution_3'))\n",
    "output_3_pool = tf.nn.max_pool(convolution_3,ksize=[1,2,2,1],strides=[1,2,2,1],padding=\"VALID\",name='output_3_pool')\n",
    "convolution_4 = tf.nn.relu(tf.nn.conv2d(output_3_pool,conv_filter_4,strides=[1,1,1,1],padding=\"VALID\",name='convolution_4'))\n",
    "output_4_pool = tf.nn.max_pool(convolution_4,ksize=[1,2,2,1],strides=[1,2,2,1],padding=\"VALID\",name='output_4_pool')\n",
    "convolution_5 = tf.nn.relu(tf.nn.conv2d(output_4_pool,conv_filter_5,strides=[1,1,1,1],padding=\"VALID\",name='convolution_5'))\n",
    "output_5_pool = tf.nn.max_pool(convolution_5,ksize=[1,2,2,1],strides=[1,2,2,1],padding=\"VALID\",name='output_5_pool')\n",
    "convolution_6 = tf.nn.relu(tf.nn.conv2d(output_5_pool,conv_filter_6,strides=[1,1,1,1],padding=\"VALID\",name='convolution_6'))\n",
    "output_6_pool = tf.nn.max_pool(convolution_6,ksize=[1,2,2,1],strides=[1,2,2,1],padding=\"VALID\",name='output_6_pool')\n",
    "convolution_7 = tf.nn.relu(tf.nn.conv2d(output_6_pool,conv_filter_7,strides=[1,1,1,1],padding=\"VALID\",name='convolution_7'))\n",
    "output_7_pool = tf.nn.max_pool(convolution_7,ksize=[1,2,2,1],strides=[1,2,2,1],padding=\"VALID\",name='output_7_pool')\n",
    "convolution_8 = tf.nn.relu(tf.nn.conv2d(output_7_pool,conv_filter_8,strides=[1,1,1,1],padding=\"VALID\",name='convolution_8'))\n",
    "\n",
    "\n",
    "output_2 = tf.contrib.layers.flatten(convolution_8)\n",
    "init = tf.global_variables_initializer()\n",
    "with tf.Session() as sess:\n",
    "    sess.run(init)\n",
    "    output = sess.run(output_2,{X:arr[0:1,:,:,:]})\n",
    "    print(output.shape)\n",
    "shape = output.shape\n",
    "#     print(sess.run(convolution_8,{X:arr[0:1,:,:,:]}).shape)\n",
    "#     print(sess.run(convolution_4,{X:arr[0:1,:,:,:]}).shape)\n",
    "\n",
    "\n",
    "#     output_2 = sess.run(convolution_2,{X:X_train[0:1,:,:,:]})\n",
    "\n",
    "    \n",
    "# output_2 = output_2.reshape(output_2.shape[0],-1)\n",
    "# print(output_2.shape)\n",
    "\n",
    "# with tf.Session() as sess:\n",
    "#     output_2 = sess.run(convolution_2,{X:output_1_pool})\n",
    "# print(output_2.shape)\n",
    "# plt.imshow(output_2[0,:,:,0].astype('uint8'))\n",
    "# plt.show()\n",
    "\n",
    "# shapes = np.array(convolution_2).shape\n",
    "# output_2 = np.array(convolution_2).reshape(shapes[0],-1)\n",
    "weight = tf.Variable(np.random.randn(shape[1],num_output_class),dtype=np.float32,name='full_conv_weight')"
   ]
  },
  {
   "cell_type": "code",
   "execution_count": 9,
   "metadata": {},
   "outputs": [
    {
     "ename": "InvalidArgumentError",
     "evalue": "input must be 4-dimensional[2560,1920,3]\n\t [[Node: convolution_1_1 = Conv2D[T=DT_FLOAT, data_format=\"NHWC\", dilations=[1, 1, 1, 1], padding=\"SAME\", strides=[1, 1, 1, 1], use_cudnn_on_gpu=true, _device=\"/job:localhost/replica:0/task:0/device:CPU:0\"](_arg_Placeholder_1_0_0, conv_filter_1_1/read)]]\n\nCaused by op 'convolution_1_1', defined at:\n  File \"/usr/lib/python3.5/runpy.py\", line 184, in _run_module_as_main\n    \"__main__\", mod_spec)\n  File \"/usr/lib/python3.5/runpy.py\", line 85, in _run_code\n    exec(code, run_globals)\n  File \"/home/sahilraj/Documents/python_environment/my_env/lib/python3.5/site-packages/ipykernel_launcher.py\", line 16, in <module>\n    app.launch_new_instance()\n  File \"/home/sahilraj/Documents/python_environment/my_env/lib/python3.5/site-packages/traitlets/config/application.py\", line 658, in launch_instance\n    app.start()\n  File \"/home/sahilraj/Documents/python_environment/my_env/lib/python3.5/site-packages/ipykernel/kernelapp.py\", line 486, in start\n    self.io_loop.start()\n  File \"/home/sahilraj/Documents/python_environment/my_env/lib/python3.5/site-packages/tornado/platform/asyncio.py\", line 112, in start\n    self.asyncio_loop.run_forever()\n  File \"/usr/lib/python3.5/asyncio/base_events.py\", line 345, in run_forever\n    self._run_once()\n  File \"/usr/lib/python3.5/asyncio/base_events.py\", line 1312, in _run_once\n    handle._run()\n  File \"/usr/lib/python3.5/asyncio/events.py\", line 125, in _run\n    self._callback(*self._args)\n  File \"/home/sahilraj/Documents/python_environment/my_env/lib/python3.5/site-packages/tornado/platform/asyncio.py\", line 102, in _handle_events\n    handler_func(fileobj, events)\n  File \"/home/sahilraj/Documents/python_environment/my_env/lib/python3.5/site-packages/tornado/stack_context.py\", line 276, in null_wrapper\n    return fn(*args, **kwargs)\n  File \"/home/sahilraj/Documents/python_environment/my_env/lib/python3.5/site-packages/zmq/eventloop/zmqstream.py\", line 450, in _handle_events\n    self._handle_recv()\n  File \"/home/sahilraj/Documents/python_environment/my_env/lib/python3.5/site-packages/zmq/eventloop/zmqstream.py\", line 480, in _handle_recv\n    self._run_callback(callback, msg)\n  File \"/home/sahilraj/Documents/python_environment/my_env/lib/python3.5/site-packages/zmq/eventloop/zmqstream.py\", line 432, in _run_callback\n    callback(*args, **kwargs)\n  File \"/home/sahilraj/Documents/python_environment/my_env/lib/python3.5/site-packages/tornado/stack_context.py\", line 276, in null_wrapper\n    return fn(*args, **kwargs)\n  File \"/home/sahilraj/Documents/python_environment/my_env/lib/python3.5/site-packages/ipykernel/kernelbase.py\", line 283, in dispatcher\n    return self.dispatch_shell(stream, msg)\n  File \"/home/sahilraj/Documents/python_environment/my_env/lib/python3.5/site-packages/ipykernel/kernelbase.py\", line 233, in dispatch_shell\n    handler(stream, idents, msg)\n  File \"/home/sahilraj/Documents/python_environment/my_env/lib/python3.5/site-packages/ipykernel/kernelbase.py\", line 399, in execute_request\n    user_expressions, allow_stdin)\n  File \"/home/sahilraj/Documents/python_environment/my_env/lib/python3.5/site-packages/ipykernel/ipkernel.py\", line 208, in do_execute\n    res = shell.run_cell(code, store_history=store_history, silent=silent)\n  File \"/home/sahilraj/Documents/python_environment/my_env/lib/python3.5/site-packages/ipykernel/zmqshell.py\", line 537, in run_cell\n    return super(ZMQInteractiveShell, self).run_cell(*args, **kwargs)\n  File \"/home/sahilraj/Documents/python_environment/my_env/lib/python3.5/site-packages/IPython/core/interactiveshell.py\", line 2728, in run_cell\n    interactivity=interactivity, compiler=compiler, result=result)\n  File \"/home/sahilraj/Documents/python_environment/my_env/lib/python3.5/site-packages/IPython/core/interactiveshell.py\", line 2850, in run_ast_nodes\n    if self.run_code(code, result):\n  File \"/home/sahilraj/Documents/python_environment/my_env/lib/python3.5/site-packages/IPython/core/interactiveshell.py\", line 2910, in run_code\n    exec(code_obj, self.user_global_ns, self.user_ns)\n  File \"<ipython-input-7-edc90c60a2df>\", line 17, in <module>\n    convolution_1 = tf.nn.relu(tf.nn.conv2d(X,conv_filter_1,strides=[1,1,1,1],padding='SAME',name='convolution_1'))\n  File \"/home/sahilraj/Documents/python_environment/my_env/lib/python3.5/site-packages/tensorflow/python/ops/gen_nn_ops.py\", line 956, in conv2d\n    data_format=data_format, dilations=dilations, name=name)\n  File \"/home/sahilraj/Documents/python_environment/my_env/lib/python3.5/site-packages/tensorflow/python/framework/op_def_library.py\", line 787, in _apply_op_helper\n    op_def=op_def)\n  File \"/home/sahilraj/Documents/python_environment/my_env/lib/python3.5/site-packages/tensorflow/python/framework/ops.py\", line 3392, in create_op\n    op_def=op_def)\n  File \"/home/sahilraj/Documents/python_environment/my_env/lib/python3.5/site-packages/tensorflow/python/framework/ops.py\", line 1718, in __init__\n    self._traceback = self._graph._extract_stack()  # pylint: disable=protected-access\n\nInvalidArgumentError (see above for traceback): input must be 4-dimensional[2560,1920,3]\n\t [[Node: convolution_1_1 = Conv2D[T=DT_FLOAT, data_format=\"NHWC\", dilations=[1, 1, 1, 1], padding=\"SAME\", strides=[1, 1, 1, 1], use_cudnn_on_gpu=true, _device=\"/job:localhost/replica:0/task:0/device:CPU:0\"](_arg_Placeholder_1_0_0, conv_filter_1_1/read)]]\n",
     "output_type": "error",
     "traceback": [
      "\u001b[0;31m---------------------------------------------------------------------------\u001b[0m",
      "\u001b[0;31mInvalidArgumentError\u001b[0m                      Traceback (most recent call last)",
      "\u001b[0;32m~/Documents/python_environment/my_env/lib/python3.5/site-packages/tensorflow/python/client/session.py\u001b[0m in \u001b[0;36m_do_call\u001b[0;34m(self, fn, *args)\u001b[0m\n\u001b[1;32m   1321\u001b[0m     \u001b[0;32mtry\u001b[0m\u001b[0;34m:\u001b[0m\u001b[0;34m\u001b[0m\u001b[0m\n\u001b[0;32m-> 1322\u001b[0;31m       \u001b[0;32mreturn\u001b[0m \u001b[0mfn\u001b[0m\u001b[0;34m(\u001b[0m\u001b[0;34m*\u001b[0m\u001b[0margs\u001b[0m\u001b[0;34m)\u001b[0m\u001b[0;34m\u001b[0m\u001b[0m\n\u001b[0m\u001b[1;32m   1323\u001b[0m     \u001b[0;32mexcept\u001b[0m \u001b[0merrors\u001b[0m\u001b[0;34m.\u001b[0m\u001b[0mOpError\u001b[0m \u001b[0;32mas\u001b[0m \u001b[0me\u001b[0m\u001b[0;34m:\u001b[0m\u001b[0;34m\u001b[0m\u001b[0m\n",
      "\u001b[0;32m~/Documents/python_environment/my_env/lib/python3.5/site-packages/tensorflow/python/client/session.py\u001b[0m in \u001b[0;36m_run_fn\u001b[0;34m(feed_dict, fetch_list, target_list, options, run_metadata)\u001b[0m\n\u001b[1;32m   1306\u001b[0m       return self._call_tf_sessionrun(\n\u001b[0;32m-> 1307\u001b[0;31m           options, feed_dict, fetch_list, target_list, run_metadata)\n\u001b[0m\u001b[1;32m   1308\u001b[0m \u001b[0;34m\u001b[0m\u001b[0m\n",
      "\u001b[0;32m~/Documents/python_environment/my_env/lib/python3.5/site-packages/tensorflow/python/client/session.py\u001b[0m in \u001b[0;36m_call_tf_sessionrun\u001b[0;34m(self, options, feed_dict, fetch_list, target_list, run_metadata)\u001b[0m\n\u001b[1;32m   1408\u001b[0m           \u001b[0mself\u001b[0m\u001b[0;34m.\u001b[0m\u001b[0m_session\u001b[0m\u001b[0;34m,\u001b[0m \u001b[0moptions\u001b[0m\u001b[0;34m,\u001b[0m \u001b[0mfeed_dict\u001b[0m\u001b[0;34m,\u001b[0m \u001b[0mfetch_list\u001b[0m\u001b[0;34m,\u001b[0m \u001b[0mtarget_list\u001b[0m\u001b[0;34m,\u001b[0m\u001b[0;34m\u001b[0m\u001b[0m\n\u001b[0;32m-> 1409\u001b[0;31m           run_metadata)\n\u001b[0m\u001b[1;32m   1410\u001b[0m     \u001b[0;32melse\u001b[0m\u001b[0;34m:\u001b[0m\u001b[0;34m\u001b[0m\u001b[0m\n",
      "\u001b[0;31mInvalidArgumentError\u001b[0m: input must be 4-dimensional[2560,1920,3]\n\t [[Node: convolution_1_1 = Conv2D[T=DT_FLOAT, data_format=\"NHWC\", dilations=[1, 1, 1, 1], padding=\"SAME\", strides=[1, 1, 1, 1], use_cudnn_on_gpu=true, _device=\"/job:localhost/replica:0/task:0/device:CPU:0\"](_arg_Placeholder_1_0_0, conv_filter_1_1/read)]]",
      "\nDuring handling of the above exception, another exception occurred:\n",
      "\u001b[0;31mInvalidArgumentError\u001b[0m                      Traceback (most recent call last)",
      "\u001b[0;32m<ipython-input-9-43e769554f81>\u001b[0m in \u001b[0;36m<module>\u001b[0;34m()\u001b[0m\n\u001b[1;32m     24\u001b[0m     \u001b[0msess\u001b[0m\u001b[0;34m.\u001b[0m\u001b[0mrun\u001b[0m\u001b[0;34m(\u001b[0m\u001b[0minit\u001b[0m\u001b[0;34m)\u001b[0m\u001b[0;34m\u001b[0m\u001b[0m\n\u001b[1;32m     25\u001b[0m     \u001b[0;32mfor\u001b[0m \u001b[0mi\u001b[0m \u001b[0;32min\u001b[0m \u001b[0mrange\u001b[0m\u001b[0;34m(\u001b[0m\u001b[0;36m5\u001b[0m\u001b[0;34m)\u001b[0m\u001b[0;34m:\u001b[0m\u001b[0;34m\u001b[0m\u001b[0m\n\u001b[0;32m---> 26\u001b[0;31m         \u001b[0msess\u001b[0m\u001b[0;34m.\u001b[0m\u001b[0mrun\u001b[0m\u001b[0;34m(\u001b[0m\u001b[0mtrain\u001b[0m\u001b[0;34m,\u001b[0m\u001b[0;34m{\u001b[0m\u001b[0mX\u001b[0m\u001b[0;34m:\u001b[0m\u001b[0marr\u001b[0m\u001b[0;34m[\u001b[0m\u001b[0;36m0\u001b[0m\u001b[0;34m,\u001b[0m\u001b[0;34m:\u001b[0m\u001b[0;34m,\u001b[0m\u001b[0;34m:\u001b[0m\u001b[0;34m,\u001b[0m\u001b[0;34m:\u001b[0m\u001b[0;34m]\u001b[0m\u001b[0;34m}\u001b[0m\u001b[0;34m)\u001b[0m\u001b[0;34m\u001b[0m\u001b[0m\n\u001b[0m\u001b[1;32m     27\u001b[0m \u001b[0;31m#         sess.run(train,{X:X_train[0:1,:,:,:]})\u001b[0m\u001b[0;34m\u001b[0m\u001b[0;34m\u001b[0m\u001b[0m\n\u001b[1;32m     28\u001b[0m \u001b[0;31m#         if i % 10 == 0:\u001b[0m\u001b[0;34m\u001b[0m\u001b[0;34m\u001b[0m\u001b[0m\n",
      "\u001b[0;32m~/Documents/python_environment/my_env/lib/python3.5/site-packages/tensorflow/python/client/session.py\u001b[0m in \u001b[0;36mrun\u001b[0;34m(self, fetches, feed_dict, options, run_metadata)\u001b[0m\n\u001b[1;32m    898\u001b[0m     \u001b[0;32mtry\u001b[0m\u001b[0;34m:\u001b[0m\u001b[0;34m\u001b[0m\u001b[0m\n\u001b[1;32m    899\u001b[0m       result = self._run(None, fetches, feed_dict, options_ptr,\n\u001b[0;32m--> 900\u001b[0;31m                          run_metadata_ptr)\n\u001b[0m\u001b[1;32m    901\u001b[0m       \u001b[0;32mif\u001b[0m \u001b[0mrun_metadata\u001b[0m\u001b[0;34m:\u001b[0m\u001b[0;34m\u001b[0m\u001b[0m\n\u001b[1;32m    902\u001b[0m         \u001b[0mproto_data\u001b[0m \u001b[0;34m=\u001b[0m \u001b[0mtf_session\u001b[0m\u001b[0;34m.\u001b[0m\u001b[0mTF_GetBuffer\u001b[0m\u001b[0;34m(\u001b[0m\u001b[0mrun_metadata_ptr\u001b[0m\u001b[0;34m)\u001b[0m\u001b[0;34m\u001b[0m\u001b[0m\n",
      "\u001b[0;32m~/Documents/python_environment/my_env/lib/python3.5/site-packages/tensorflow/python/client/session.py\u001b[0m in \u001b[0;36m_run\u001b[0;34m(self, handle, fetches, feed_dict, options, run_metadata)\u001b[0m\n\u001b[1;32m   1133\u001b[0m     \u001b[0;32mif\u001b[0m \u001b[0mfinal_fetches\u001b[0m \u001b[0;32mor\u001b[0m \u001b[0mfinal_targets\u001b[0m \u001b[0;32mor\u001b[0m \u001b[0;34m(\u001b[0m\u001b[0mhandle\u001b[0m \u001b[0;32mand\u001b[0m \u001b[0mfeed_dict_tensor\u001b[0m\u001b[0;34m)\u001b[0m\u001b[0;34m:\u001b[0m\u001b[0;34m\u001b[0m\u001b[0m\n\u001b[1;32m   1134\u001b[0m       results = self._do_run(handle, final_targets, final_fetches,\n\u001b[0;32m-> 1135\u001b[0;31m                              feed_dict_tensor, options, run_metadata)\n\u001b[0m\u001b[1;32m   1136\u001b[0m     \u001b[0;32melse\u001b[0m\u001b[0;34m:\u001b[0m\u001b[0;34m\u001b[0m\u001b[0m\n\u001b[1;32m   1137\u001b[0m       \u001b[0mresults\u001b[0m \u001b[0;34m=\u001b[0m \u001b[0;34m[\u001b[0m\u001b[0;34m]\u001b[0m\u001b[0;34m\u001b[0m\u001b[0m\n",
      "\u001b[0;32m~/Documents/python_environment/my_env/lib/python3.5/site-packages/tensorflow/python/client/session.py\u001b[0m in \u001b[0;36m_do_run\u001b[0;34m(self, handle, target_list, fetch_list, feed_dict, options, run_metadata)\u001b[0m\n\u001b[1;32m   1314\u001b[0m     \u001b[0;32mif\u001b[0m \u001b[0mhandle\u001b[0m \u001b[0;32mis\u001b[0m \u001b[0;32mNone\u001b[0m\u001b[0;34m:\u001b[0m\u001b[0;34m\u001b[0m\u001b[0m\n\u001b[1;32m   1315\u001b[0m       return self._do_call(_run_fn, feeds, fetches, targets, options,\n\u001b[0;32m-> 1316\u001b[0;31m                            run_metadata)\n\u001b[0m\u001b[1;32m   1317\u001b[0m     \u001b[0;32melse\u001b[0m\u001b[0;34m:\u001b[0m\u001b[0;34m\u001b[0m\u001b[0m\n\u001b[1;32m   1318\u001b[0m       \u001b[0;32mreturn\u001b[0m \u001b[0mself\u001b[0m\u001b[0;34m.\u001b[0m\u001b[0m_do_call\u001b[0m\u001b[0;34m(\u001b[0m\u001b[0m_prun_fn\u001b[0m\u001b[0;34m,\u001b[0m \u001b[0mhandle\u001b[0m\u001b[0;34m,\u001b[0m \u001b[0mfeeds\u001b[0m\u001b[0;34m,\u001b[0m \u001b[0mfetches\u001b[0m\u001b[0;34m)\u001b[0m\u001b[0;34m\u001b[0m\u001b[0m\n",
      "\u001b[0;32m~/Documents/python_environment/my_env/lib/python3.5/site-packages/tensorflow/python/client/session.py\u001b[0m in \u001b[0;36m_do_call\u001b[0;34m(self, fn, *args)\u001b[0m\n\u001b[1;32m   1333\u001b[0m         \u001b[0;32mexcept\u001b[0m \u001b[0mKeyError\u001b[0m\u001b[0;34m:\u001b[0m\u001b[0;34m\u001b[0m\u001b[0m\n\u001b[1;32m   1334\u001b[0m           \u001b[0;32mpass\u001b[0m\u001b[0;34m\u001b[0m\u001b[0m\n\u001b[0;32m-> 1335\u001b[0;31m       \u001b[0;32mraise\u001b[0m \u001b[0mtype\u001b[0m\u001b[0;34m(\u001b[0m\u001b[0me\u001b[0m\u001b[0;34m)\u001b[0m\u001b[0;34m(\u001b[0m\u001b[0mnode_def\u001b[0m\u001b[0;34m,\u001b[0m \u001b[0mop\u001b[0m\u001b[0;34m,\u001b[0m \u001b[0mmessage\u001b[0m\u001b[0;34m)\u001b[0m\u001b[0;34m\u001b[0m\u001b[0m\n\u001b[0m\u001b[1;32m   1336\u001b[0m \u001b[0;34m\u001b[0m\u001b[0m\n\u001b[1;32m   1337\u001b[0m   \u001b[0;32mdef\u001b[0m \u001b[0m_extend_graph\u001b[0m\u001b[0;34m(\u001b[0m\u001b[0mself\u001b[0m\u001b[0;34m)\u001b[0m\u001b[0;34m:\u001b[0m\u001b[0;34m\u001b[0m\u001b[0m\n",
      "\u001b[0;31mInvalidArgumentError\u001b[0m: input must be 4-dimensional[2560,1920,3]\n\t [[Node: convolution_1_1 = Conv2D[T=DT_FLOAT, data_format=\"NHWC\", dilations=[1, 1, 1, 1], padding=\"SAME\", strides=[1, 1, 1, 1], use_cudnn_on_gpu=true, _device=\"/job:localhost/replica:0/task:0/device:CPU:0\"](_arg_Placeholder_1_0_0, conv_filter_1_1/read)]]\n\nCaused by op 'convolution_1_1', defined at:\n  File \"/usr/lib/python3.5/runpy.py\", line 184, in _run_module_as_main\n    \"__main__\", mod_spec)\n  File \"/usr/lib/python3.5/runpy.py\", line 85, in _run_code\n    exec(code, run_globals)\n  File \"/home/sahilraj/Documents/python_environment/my_env/lib/python3.5/site-packages/ipykernel_launcher.py\", line 16, in <module>\n    app.launch_new_instance()\n  File \"/home/sahilraj/Documents/python_environment/my_env/lib/python3.5/site-packages/traitlets/config/application.py\", line 658, in launch_instance\n    app.start()\n  File \"/home/sahilraj/Documents/python_environment/my_env/lib/python3.5/site-packages/ipykernel/kernelapp.py\", line 486, in start\n    self.io_loop.start()\n  File \"/home/sahilraj/Documents/python_environment/my_env/lib/python3.5/site-packages/tornado/platform/asyncio.py\", line 112, in start\n    self.asyncio_loop.run_forever()\n  File \"/usr/lib/python3.5/asyncio/base_events.py\", line 345, in run_forever\n    self._run_once()\n  File \"/usr/lib/python3.5/asyncio/base_events.py\", line 1312, in _run_once\n    handle._run()\n  File \"/usr/lib/python3.5/asyncio/events.py\", line 125, in _run\n    self._callback(*self._args)\n  File \"/home/sahilraj/Documents/python_environment/my_env/lib/python3.5/site-packages/tornado/platform/asyncio.py\", line 102, in _handle_events\n    handler_func(fileobj, events)\n  File \"/home/sahilraj/Documents/python_environment/my_env/lib/python3.5/site-packages/tornado/stack_context.py\", line 276, in null_wrapper\n    return fn(*args, **kwargs)\n  File \"/home/sahilraj/Documents/python_environment/my_env/lib/python3.5/site-packages/zmq/eventloop/zmqstream.py\", line 450, in _handle_events\n    self._handle_recv()\n  File \"/home/sahilraj/Documents/python_environment/my_env/lib/python3.5/site-packages/zmq/eventloop/zmqstream.py\", line 480, in _handle_recv\n    self._run_callback(callback, msg)\n  File \"/home/sahilraj/Documents/python_environment/my_env/lib/python3.5/site-packages/zmq/eventloop/zmqstream.py\", line 432, in _run_callback\n    callback(*args, **kwargs)\n  File \"/home/sahilraj/Documents/python_environment/my_env/lib/python3.5/site-packages/tornado/stack_context.py\", line 276, in null_wrapper\n    return fn(*args, **kwargs)\n  File \"/home/sahilraj/Documents/python_environment/my_env/lib/python3.5/site-packages/ipykernel/kernelbase.py\", line 283, in dispatcher\n    return self.dispatch_shell(stream, msg)\n  File \"/home/sahilraj/Documents/python_environment/my_env/lib/python3.5/site-packages/ipykernel/kernelbase.py\", line 233, in dispatch_shell\n    handler(stream, idents, msg)\n  File \"/home/sahilraj/Documents/python_environment/my_env/lib/python3.5/site-packages/ipykernel/kernelbase.py\", line 399, in execute_request\n    user_expressions, allow_stdin)\n  File \"/home/sahilraj/Documents/python_environment/my_env/lib/python3.5/site-packages/ipykernel/ipkernel.py\", line 208, in do_execute\n    res = shell.run_cell(code, store_history=store_history, silent=silent)\n  File \"/home/sahilraj/Documents/python_environment/my_env/lib/python3.5/site-packages/ipykernel/zmqshell.py\", line 537, in run_cell\n    return super(ZMQInteractiveShell, self).run_cell(*args, **kwargs)\n  File \"/home/sahilraj/Documents/python_environment/my_env/lib/python3.5/site-packages/IPython/core/interactiveshell.py\", line 2728, in run_cell\n    interactivity=interactivity, compiler=compiler, result=result)\n  File \"/home/sahilraj/Documents/python_environment/my_env/lib/python3.5/site-packages/IPython/core/interactiveshell.py\", line 2850, in run_ast_nodes\n    if self.run_code(code, result):\n  File \"/home/sahilraj/Documents/python_environment/my_env/lib/python3.5/site-packages/IPython/core/interactiveshell.py\", line 2910, in run_code\n    exec(code_obj, self.user_global_ns, self.user_ns)\n  File \"<ipython-input-7-edc90c60a2df>\", line 17, in <module>\n    convolution_1 = tf.nn.relu(tf.nn.conv2d(X,conv_filter_1,strides=[1,1,1,1],padding='SAME',name='convolution_1'))\n  File \"/home/sahilraj/Documents/python_environment/my_env/lib/python3.5/site-packages/tensorflow/python/ops/gen_nn_ops.py\", line 956, in conv2d\n    data_format=data_format, dilations=dilations, name=name)\n  File \"/home/sahilraj/Documents/python_environment/my_env/lib/python3.5/site-packages/tensorflow/python/framework/op_def_library.py\", line 787, in _apply_op_helper\n    op_def=op_def)\n  File \"/home/sahilraj/Documents/python_environment/my_env/lib/python3.5/site-packages/tensorflow/python/framework/ops.py\", line 3392, in create_op\n    op_def=op_def)\n  File \"/home/sahilraj/Documents/python_environment/my_env/lib/python3.5/site-packages/tensorflow/python/framework/ops.py\", line 1718, in __init__\n    self._traceback = self._graph._extract_stack()  # pylint: disable=protected-access\n\nInvalidArgumentError (see above for traceback): input must be 4-dimensional[2560,1920,3]\n\t [[Node: convolution_1_1 = Conv2D[T=DT_FLOAT, data_format=\"NHWC\", dilations=[1, 1, 1, 1], padding=\"SAME\", strides=[1, 1, 1, 1], use_cudnn_on_gpu=true, _device=\"/job:localhost/replica:0/task:0/device:CPU:0\"](_arg_Placeholder_1_0_0, conv_filter_1_1/read)]]\n"
     ]
    }
   ],
   "source": [
    "import time\n",
    "\n",
    "\n",
    "tic = time.time()\n",
    "final_output = tf.reshape(tf.nn.relu(tf.matmul(output_2,weight)),(2,),name='final_output')\n",
    "# print(final_output)\n",
    "# print(Y_train[0])\n",
    "\n",
    "softmax = tf.nn.softmax(final_output)\n",
    "softmax_loss = - tf.log(softmax)[0]\n",
    "learning_rate = 1e-1\n",
    "optimizer = tf.train.GradientDescentOptimizer(learning_rate)\n",
    "train = optimizer.minimize(softmax_loss)\n",
    "# gradient = tf.reshape(tf.gradients(softmax_loss,weight),(768,10))\n",
    "\n",
    "# cross_entropy_gradient = (softmax_loss-1) * final_output\n",
    "\n",
    "# weight_update = tf.assign(weight, weight - learning_rate * gradient)\n",
    "init = tf.global_variables_initializer()\n",
    "# saver = tf.train.Saver()\n",
    "# writer = tf.summary.FileWriter('./graphs/linear_reg', tf.get_default_graph())\n",
    "with tf.Session() as sess:\n",
    "#     saver.restore(sess,\"/tmp/my_model_final.ckpt\")\n",
    "    sess.run(init)\n",
    "    for i in range(5):\n",
    "        sess.run(train,{X:arr[0:1,:,:,:]})\n",
    "#         sess.run(train,{X:X_train[0:1,:,:,:]})\n",
    "#         if i % 10 == 0:\n",
    "#             save_path = saver.save(sess, \"/tmp/my_model.ckpt\")\n",
    "        print(sess.run(softmax_loss,{X:arr[0:1,:,:,:]}))\n",
    "#     softmax_loss = - np.log(sess.run(softmax))[Y_train[0]]\n",
    "toc = time.time()\n",
    "print('time-delay:',toc-tic)"
   ]
  },
  {
   "cell_type": "code",
   "execution_count": null,
   "metadata": {},
   "outputs": [],
   "source": []
  }
 ],
 "metadata": {
  "kernelspec": {
   "display_name": "Python 3",
   "language": "python",
   "name": "python3"
  },
  "language_info": {
   "codemirror_mode": {
    "name": "ipython",
    "version": 3
   },
   "file_extension": ".py",
   "mimetype": "text/x-python",
   "name": "python",
   "nbconvert_exporter": "python",
   "pygments_lexer": "ipython3",
   "version": "3.5.2"
  }
 },
 "nbformat": 4,
 "nbformat_minor": 2
}
