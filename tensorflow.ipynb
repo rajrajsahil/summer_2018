{
 "cells": [
  {
   "cell_type": "code",
   "execution_count": 1,
   "metadata": {},
   "outputs": [],
   "source": [
    "import numpy as np\n",
    "import tensorflow as tf\n",
    "from sklearn.datasets import fetch_california_housing"
   ]
  },
  {
   "cell_type": "code",
   "execution_count": 8,
   "metadata": {},
   "outputs": [
    {
     "name": "stdout",
     "output_type": "stream",
     "text": [
      "['MedInc', 'HouseAge', 'AveRooms', 'AveBedrms', 'Population', 'AveOccup', 'Latitude', 'Longitude']\n",
      "(20640, 8)\n",
      "(20640, 9)\n",
      "(20640,)\n",
      "[[-3.7185181e+01]\n",
      " [ 4.3633747e-01]\n",
      " [ 9.3952334e-03]\n",
      " [-1.0711310e-01]\n",
      " [ 6.4479220e-01]\n",
      " [-4.0338000e-06]\n",
      " [-3.7813708e-03]\n",
      " [-4.2348403e-01]\n",
      " [-4.3721911e-01]]\n"
     ]
    }
   ],
   "source": [
    "housing = fetch_california_housing()\n",
    "print(housing.feature_names)\n",
    "print(housing.data.shape)\n",
    "m,n = housing.data.shape\n",
    "housing_data_plus_bias = np.c_[np.ones(m),housing.data]\n",
    "# print(housing_data_plus_bias[0])\n",
    "print(housing_data_plus_bias.shape)\n",
    "print(housing.target.shape)\n",
    "X = tf.Variable(housing_data_plus_bias,dtype=tf.float32,name='X')\n",
    "Y = tf.Variable(housing.target.reshape(-1,1),dtype=tf.float32,name='Y')\n",
    "XT = tf.transpose(X)\n",
    "theta = tf.matmul(tf.matmul(tf.matrix_inverse(tf.matmul(XT,X)),XT),Y)\n",
    "init = tf.global_variables_initializer()\n",
    "# a=tf.constant(5)\n",
    "# b=tf.constant(10)\n",
    "writer = tf.summary.FileWriter('./graphs/linear_reg', tf.get_default_graph())\n",
    "sess = tf.Session()\n",
    "# c=a+b\n",
    "sess.run(init)\n",
    "# sess.run(XT)\n",
    "theta_value=sess.run(theta)\n",
    "print(theta_value)\n",
    "\n",
    "\n",
    "sess.close()\n",
    "writer.close()"
   ]
  },
  {
   "cell_type": "code",
   "execution_count": 5,
   "metadata": {},
   "outputs": [
    {
     "name": "stdout",
     "output_type": "stream",
     "text": [
      "None\n",
      "10\n"
     ]
    }
   ],
   "source": [
    "g1 = tf.Graph()\n",
    "with g1.as_default():\n",
    "    W = tf.Variable(10,name='XX')\n",
    "    W.assign(100)\n",
    "    writer1 = tf.summary.FileWriter('./graphs/g1', g1)\n",
    "    with tf.Session() as sess:\n",
    "        a=sess.run(W.initializer)\n",
    "        print(a)\n",
    "        print(W.eval())\n",
    "    writer1.close()"
   ]
  },
  {
   "cell_type": "code",
   "execution_count": 6,
   "metadata": {},
   "outputs": [
    {
     "name": "stdout",
     "output_type": "stream",
     "text": [
      "None\n",
      "100\n",
      "100\n"
     ]
    }
   ],
   "source": [
    "g2 = tf.Graph()\n",
    "with g2.as_default():\n",
    "    W = tf.Variable(10)\n",
    "    assign_op = W.assign(100)\n",
    "    writer2 = tf.summary.FileWriter('./graphs/g2',g2)\n",
    "    with tf.Session() as sess:\n",
    "        print(sess.run(W.initializer))\n",
    "        print(sess.run(assign_op))\n",
    "        print(W.eval())\n",
    "    writer2.close()"
   ]
  },
  {
   "cell_type": "markdown",
   "metadata": {},
   "source": [
    "# Linear Regression"
   ]
  },
  {
   "cell_type": "code",
   "execution_count": 2,
   "metadata": {},
   "outputs": [
    {
     "name": "stdout",
     "output_type": "stream",
     "text": [
      "5852.753\n",
      "a: 62.44951\n",
      "b: 152.13348\n"
     ]
    }
   ],
   "source": [
    "from sklearn.datasets import load_diabetes\n",
    "\n",
    "ddata = load_diabetes()\n",
    "X_data = ddata.data.T[0]\n",
    "# print(X_data.shape)\n",
    "Y_data = ddata.target\n",
    "# print(Y_data.shape)\n",
    "a=tf.Variable(1.0,name='a')\n",
    "b=tf.Variable(0.4,name='b')\n",
    "X = tf.placeholder(dtype=np.float32,name='input_X')\n",
    "Y = a*X + b\n",
    "Y_actual = tf.placeholder(dtype=np.float32,name='Correct_Y')\n",
    "loss = tf.reduce_mean(tf.square(Y-Y_actual))\n",
    "optimizer = tf.train.GradientDescentOptimizer(.5)\n",
    "train = optimizer.minimize(loss)\n",
    "init = tf.global_variables_initializer()\n",
    "writer = tf.summary.FileWriter('./graphs/LR',tf.get_default_graph())\n",
    "with tf.Session() as sess:\n",
    "    sess.run(init)\n",
    "    for i in range(100):\n",
    "        pass\n",
    "        sess.run(train,{X:X_data,Y_actual:Y_data})\n",
    "    print(sess.run(loss,{X:X_data,Y_actual:Y_data}))\n",
    "    print('a:',sess.run(a))\n",
    "    print('b:',sess.run(b))\n",
    "writer.close()"
   ]
  },
  {
   "cell_type": "code",
   "execution_count": null,
   "metadata": {},
   "outputs": [],
   "source": []
  }
 ],
 "metadata": {
  "kernelspec": {
   "display_name": "Python 3",
   "language": "python",
   "name": "python3"
  },
  "language_info": {
   "codemirror_mode": {
    "name": "ipython",
    "version": 3
   },
   "file_extension": ".py",
   "mimetype": "text/x-python",
   "name": "python",
   "nbconvert_exporter": "python",
   "pygments_lexer": "ipython3",
   "version": "3.5.2"
  }
 },
 "nbformat": 4,
 "nbformat_minor": 2
}
