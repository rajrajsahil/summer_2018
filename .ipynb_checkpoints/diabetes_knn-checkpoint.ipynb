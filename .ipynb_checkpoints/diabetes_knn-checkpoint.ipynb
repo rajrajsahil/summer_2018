{
 "cells": [
  {
   "cell_type": "code",
   "execution_count": null,
   "metadata": {},
   "outputs": [],
   "source": [
    "#Applying KNN\n",
    "# from diabatic_knn import KNN\n",
    "class KNN(object):\n",
    "    def __init__(self):\n",
    "        pass\n",
    "    def train(self,X,Y):\n",
    "        self.X_train = X\n",
    "        self.Y_train = Y\n",
    "    def calculate_distance_l2(self,X_predict):\n",
    "        X_train_square = np.sum(np.square(self.X_train),axis=1)\n",
    "        X_test_square  =np.sum(np.square(X_predict),axis=1)\n",
    "#         print('X_train_square:',X_train_square.shape)\n",
    "#         print('X_test_square:',X_test_square.shape)\n",
    "        test_train_dot = 2*np.dot(X_predict,self.X_train.T)\n",
    "#         print('shape:',test_train_dot.shape)\n",
    "        distance_matrix = np.ones(test_train_dot.shape,dtype=float)\n",
    "#         print(distance_matrix.shape)\n",
    "        for i in range(X_test_square.shape[0]):\n",
    "#             print(\"i\",i)\n",
    "            distance_matrix[i,:] = X_test_square[i] + X_train_square[:]\n",
    "        distance_matrix -= test_train_dots\n",
    "#         print(distance_matrix.shape) "
   ]
  },
  {
   "cell_type": "code",
   "execution_count": null,
   "metadata": {},
   "outputs": [],
   "source": []
  }
 ],
 "metadata": {
  "kernelspec": {
   "display_name": "Python 3",
   "language": "python",
   "name": "python3"
  },
  "language_info": {
   "codemirror_mode": {
    "name": "ipython",
    "version": 3
   },
   "file_extension": ".py",
   "mimetype": "text/x-python",
   "name": "python",
   "nbconvert_exporter": "python",
   "pygments_lexer": "ipython3",
   "version": "3.5.2"
  }
 },
 "nbformat": 4,
 "nbformat_minor": 2
}
