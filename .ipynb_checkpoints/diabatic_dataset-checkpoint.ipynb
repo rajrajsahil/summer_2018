{
 "cells": [
  {
   "cell_type": "code",
   "execution_count": 289,
   "metadata": {},
   "outputs": [
    {
     "name": "stdout",
     "output_type": "stream",
     "text": [
      "The autoreload extension is already loaded. To reload it, use:\n",
      "  %reload_ext autoreload\n"
     ]
    }
   ],
   "source": [
    "import matplotlib.pyplot as plt\n",
    "import numpy as np\n",
    "import csv\n",
    "\n",
    "# %matplotlib inline\n",
    "\n",
    "\n",
    "#Next two line for reloading external python module in notebook\n",
    "%load_ext autoreload\n",
    "%autoreload 2"
   ]
  },
  {
   "cell_type": "code",
   "execution_count": 290,
   "metadata": {},
   "outputs": [
    {
     "name": "stdout",
     "output_type": "stream",
     "text": [
      "diabetes_data: (768, 9)\n",
      "diabetes_data_X: (768, 8)\n",
      "diabetes_data_Y: (768, 1)\n"
     ]
    }
   ],
   "source": [
    "reader = csv.reader(open('diabetic_dataset/diabetes.csv'))\n",
    "\n",
    "#for converting the csv data into numpy array\n",
    "#content=[]\n",
    "# for count, row in enumerate(reader):\n",
    "#     if count==0:\n",
    "#         continue\n",
    "# #     for i, j in enumerate(row):\n",
    "# #         row[i] = float(j)\n",
    "#     row = [float(i) for i in row] # above 2 line can be written in this 1 line\n",
    "#     content.append(row)\n",
    "# diabetes_data = np.array(content) # for converting list of lists into 2d numpy array\n",
    "diabetes_data = np.array([[float(i) for i in row] for j, row in enumerate(reader) if j!=0]) # above 8 line can be writen in this 1single line\n",
    "\n",
    "#Break the data into dependent and independent variable\n",
    "print(\"diabetes_data:\",diabetes_data.shape)\n",
    "diabetes_data_X = diabetes_data[:,:-1]\n",
    "print(\"diabetes_data_X:\",diabetes_data_X.shape)\n",
    "diabetes_data_Y = diabetes_data[:,-1:]\n",
    "print(\"diabetes_data_Y:\",diabetes_data_Y.shape)"
   ]
  },
  {
   "cell_type": "code",
   "execution_count": 291,
   "metadata": {},
   "outputs": [
    {
     "name": "stdout",
     "output_type": "stream",
     "text": [
      "diabetes_data_X_train: (618, 8)\n",
      "diabetes_data_X_test: (150, 8)\n",
      "diabetes_data_Y_train: (618,)\n",
      "diabetes_data_Y_test: (150,)\n"
     ]
    }
   ],
   "source": [
    "#Break the data into training and test data\n",
    "diabetes_data_X_train = diabetes_data_X[:-150]\n",
    "print('diabetes_data_X_train:',diabetes_data_X_train.shape)\n",
    "diabetes_data_X_test = diabetes_data_X[-150:]\n",
    "print('diabetes_data_X_test:',diabetes_data_X_test.shape)\n",
    "diabetes_data_Y_train = diabetes_data_Y[:-150]\n",
    "diabetes_data_Y_train = diabetes_data_Y_train.reshape(diabetes_data_X_train.shape[0])\n",
    "print('diabetes_data_Y_train:',diabetes_data_Y_train.shape)\n",
    "diabetes_data_Y_test = diabetes_data_Y[-150:]\n",
    "diabetes_data_Y_test = diabetes_data_Y_test.reshape(diabetes_data_X_test.shape[0])\n",
    "print('diabetes_data_Y_test:',diabetes_data_Y_test.shape)"
   ]
  },
  {
   "cell_type": "code",
   "execution_count": 292,
   "metadata": {},
   "outputs": [
    {
     "name": "stdout",
     "output_type": "stream",
     "text": [
      "64.0\n"
     ]
    }
   ],
   "source": [
    "from module import KNN\n",
    "classifier = KNN()\n",
    "classifier.train(diabetes_data_X_train,diabetes_data_Y_train)\n",
    "predicted_y = classifier.calculate_distance_l2(diabetes_data_X_test,K=5)\n",
    "correct_ans_knn = np.sum([1 for j, x in enumerate(predicted_y) if predicted_y[j]==diabetes_data_Y_test[j]])\n",
    "correct_percent_knn = (correct_ans_knn/diabetes_data_Y_test.shape[0])*100\n",
    "print(correct_percent_knn)"
   ]
  },
  {
   "cell_type": "code",
   "execution_count": 294,
   "metadata": {
    "scrolled": true
   },
   "outputs": [
    {
     "name": "stdout",
     "output_type": "stream",
     "text": [
      "74.0\n"
     ]
    }
   ],
   "source": [
    "from sklearn import naive_bayes , tree\n",
    "model_NB = naive_bayes.GaussianNB()\n",
    "model_NB.fit(diabetes_data_X_train,diabetes_data_Y_train)\n",
    "predicted = model_NB.predict(diabetes_data_X_test)\n",
    "correct_ans_NB = np.sum([1 for j, x in enumerate(predicted) if predicted[j]==diabetes_data_Y_test[j]])\n",
    "correct_percent_NB = (correct_ans_NB/diabetes_data_Y_test.shape[0])*100\n",
    "print(correct_percent_NB)"
   ]
  },
  {
   "cell_type": "code",
   "execution_count": 423,
   "metadata": {},
   "outputs": [
    {
     "name": "stdout",
     "output_type": "stream",
     "text": [
      "75.33333333333333\n",
      "Time: 0.007750749588012695\n"
     ]
    }
   ],
   "source": [
    "from sklearn.preprocessing import StandardScaler\n",
    "from sklearn.svm import LinearSVC\n",
    "import time\n",
    "scaler = StandardScaler()\n",
    "scaled_X_train =scaler.fit_transform(diabetes_data_X_train)\n",
    "scaled_X_test =scaler.fit_transform(diabetes_data_X_test)\n",
    "model_LSVM = LinearSVC(C=1,loss='hinge')\n",
    "tic =time.time()\n",
    "model_LSVM.fit(scaled_X_train,diabetes_data_Y_train)\n",
    "predicted = model_LSVM.predict(scaled_X_test)\n",
    "toc = time.time()\n",
    "correct_ans_lsvc = np.sum([1 for j, x in enumerate(predicted) if predicted[j]==diabetes_data_Y_test[j]])\n",
    "correct_percent_lsvc = (correct_ans_lsvc/diabetes_data_Y_test.shape[0])*100\n",
    "print(correct_percent_lsvc)\n",
    "print('Time:',toc-tic)"
   ]
  },
  {
   "cell_type": "markdown",
   "metadata": {},
   "source": [
    "The accuracy %ge is changing everytime I train and predict if C is larger around 100"
   ]
  },
  {
   "cell_type": "code",
   "execution_count": 301,
   "metadata": {},
   "outputs": [
    {
     "name": "stdout",
     "output_type": "stream",
     "text": [
      "67.33333333333333\n"
     ]
    }
   ],
   "source": [
    "model_DT = tree.DecisionTreeClassifier(criterion='gini',max_depth=6)\n",
    "model_DT.fit(diabetes_data_X_train,diabetes_data_Y_train)\n",
    "# score = model.score(diabetes_data_X_train,diabetes_data_Y_train)\n",
    "predicted = model_DT.predict(diabetes_data_X_test)\n",
    "# print(predicted)\n",
    "# print(diabetes_data_Y_test)\n",
    "correct_ans_DT = np.sum([1 for j, x in enumerate(predicted) if predicted[j]==diabetes_data_Y_test[j]])\n",
    "correct_percent_DT = (correct_ans_DT/diabetes_data_Y_test.shape[0])*100\n",
    "print(correct_percent_DT)"
   ]
  },
  {
   "cell_type": "code",
   "execution_count": 451,
   "metadata": {},
   "outputs": [
    {
     "name": "stdout",
     "output_type": "stream",
     "text": [
      "75.33333333333333\n"
     ]
    }
   ],
   "source": [
    "from sklearn.linear_model import LogisticRegression\n",
    "model_LR = LogisticRegression()\n",
    "model_LR.fit(diabetes_data_X_train,diabetes_data_Y_train)\n",
    "predicted = regr.predict(diabetes_data_X_test)\n",
    "correct_ans_LR = np.sum([1 for j, x in enumerate(predicted) if predicted[j]==diabetes_data_Y_test[j]])\n",
    "correct_percent_LR = (correct_ans_LR/diabetes_data_Y_test.shape[0])*100\n",
    "print(correct_percent_LR)"
   ]
  },
  {
   "cell_type": "code",
   "execution_count": 455,
   "metadata": {},
   "outputs": [
    {
     "name": "stdout",
     "output_type": "stream",
     "text": [
      "74.0\n"
     ]
    },
    {
     "name": "stderr",
     "output_type": "stream",
     "text": [
      "/home/sahilraj/Documents/python_environment/my_env/lib/python3.5/site-packages/sklearn/preprocessing/label.py:151: DeprecationWarning: The truth value of an empty array is ambiguous. Returning False, but in future this will result in an error. Use `array.size > 0` to check that an array is not empty.\n",
      "  if diff:\n"
     ]
    }
   ],
   "source": [
    "from sklearn.ensemble import VotingClassifier\n",
    "model_VC = VotingClassifier(estimators = [('nb',model_NB),('dt',model_DT),('lr',model_LR)],voting='hard')\n",
    "model_VC.fit(diabetes_data_X_train,diabetes_data_Y_train)\n",
    "predicted = model_VC.predict(diabetes_data_X_test)\n",
    "correct_ans_VC = np.sum([1 for j, x in enumerate(predicted) if predicted[j]==diabetes_data_Y_test[j]])\n",
    "correct_percent_VC = (correct_ans_VC/diabetes_data_Y_test.shape[0])*100\n",
    "print(correct_percent_VC)"
   ]
  },
  {
   "cell_type": "markdown",
   "metadata": {},
   "source": [
    "## Bagging"
   ]
  },
  {
   "cell_type": "code",
   "execution_count": 341,
   "metadata": {
    "scrolled": true
   },
   "outputs": [
    {
     "name": "stdout",
     "output_type": "stream",
     "text": [
      "75.33333333333333\n"
     ]
    }
   ],
   "source": [
    "from sklearn.ensemble import BaggingClassifier\n",
    "model_BC = BaggingClassifier(model_DT, n_estimators=30, max_samples=150, bootstrap=False)\n",
    "model_BC.fit(diabetes_data_X_train,diabetes_data_Y_train)\n",
    "predicted = model_BC.predict(diabetes_data_X_test)\n",
    "correct_ans_BC = np.sum([1 for j, x in enumerate(predicted) if predicted[j]==diabetes_data_Y_test[j]])\n",
    "correct_percent_BC = (correct_ans_BC/diabetes_data_Y_test.shape[0])*100\n",
    "print(correct_percent_BC)"
   ]
  },
  {
   "cell_type": "markdown",
   "metadata": {},
   "source": [
    "## Boosting\n",
    "### AdaBoosting"
   ]
  },
  {
   "cell_type": "code",
   "execution_count": 450,
   "metadata": {},
   "outputs": [
    {
     "name": "stdout",
     "output_type": "stream",
     "text": [
      "74.66666666666667\n"
     ]
    }
   ],
   "source": [
    "from sklearn.ensemble import AdaBoostClassifier\n",
    "model_ABC = AdaBoostClassifier(model_DT,n_estimators=100,algorithm=\"SAMME.R\",learning_rate=0.25)\n",
    "model_ABC.fit(diabetes_data_X_train,diabetes_data_Y_train)\n",
    "predicted = model_ABC.predict(diabetes_data_X_test)\n",
    "correct_ans_ABC = np.sum([1 for j, x in enumerate(predicted) if predicted[j]==diabetes_data_Y_test[j]])\n",
    "correct_percent_ABC = (correct_ans_ABC/diabetes_data_Y_test.shape[0])*100\n",
    "print(correct_percent_ABC)"
   ]
  },
  {
   "cell_type": "markdown",
   "metadata": {},
   "source": [
    "## Principal Component Analysis"
   ]
  },
  {
   "cell_type": "code",
   "execution_count": 448,
   "metadata": {},
   "outputs": [
    {
     "name": "stdout",
     "output_type": "stream",
     "text": [
      "[0.89099464 0.05921954 0.02550195]\n",
      "(618, 3)\n",
      "(150, 3)\n",
      "70\n",
      "Time: 0.004527091979980469\n"
     ]
    }
   ],
   "source": [
    "from sklearn.decomposition import PCA\n",
    "pca = PCA(n_components=3)\n",
    "X3D_train = pca.fit_transform(diabetes_data_X_train)\n",
    "X3D_test = pca.fit_transform(diabetes_data_X_test)\n",
    "print(pca.explained_variance_ratio_)\n",
    "print(X3D_train.shape)\n",
    "print(X3D_test.shape)\n",
    "\n",
    "X3D_train = scaler.fit_transform(X3D_train)\n",
    "X3D_test = scaler.fit_transform(X3D_test)\n",
    "tic = time.time()\n",
    "model_LSVM.fit(X3D_train,diabetes_data_Y_train)\n",
    "predicted  = model_LSVM.predict(X3D_test)\n",
    "toc = time.time()\n",
    "correct_ans_PCA = np.sum([1 for j, x in enumerate(predicted) if predicted[j]==diabetes_data_Y_test[j]])\n",
    "correct_percent_PCA = (correct_ans_PCA/diabetes_data_Y_test.shape[0])*100\n",
    "print(correct_ans_PCA)\n",
    "print('Time:',toc-tic)\n",
    "# c1 = pca.components_.T[:,0]\n",
    "# c2 = pca.components_.T[:,1]\n",
    "# c3 = pca.components_.T[:,2]\n",
    "# print(c1,c2,c3)"
   ]
  },
  {
   "cell_type": "markdown",
   "metadata": {},
   "source": [
    "Note the time difference in Linear SVM with and without Principal conponent analysis"
   ]
  },
  {
   "cell_type": "code",
   "execution_count": 444,
   "metadata": {},
   "outputs": [
    {
     "name": "stdout",
     "output_type": "stream",
     "text": [
      "52.0\n"
     ]
    }
   ],
   "source": [
    "from sklearn.pipeline import Pipeline\n",
    "from sklearn.svm import SVC\n",
    "\n",
    "poly_kernel_svm_clf=Pipeline(((\"scaler\",StandardScaler()),(\"svm_clf\",SVC(kernel=\"rbf\",degree=2,coef0=4,C=5))))\n",
    "poly_kernel_svm_clf.fit(X3D_train,diabetes_data_Y_train)\n",
    "predicted = poly_kernel_svm_clf.predict(X3D_test)\n",
    "\n",
    "correct_ans_PCASVC = np.sum([1 for j, x in enumerate(predicted) if predicted[j]==diabetes_data_Y_test[j]])\n",
    "correct_percent_PCASVC = (correct_ans_PCASVC/diabetes_data_Y_test.shape[0])*100\n",
    "print(correct_percent_PCASVC)"
   ]
  },
  {
   "cell_type": "code",
   "execution_count": null,
   "metadata": {},
   "outputs": [],
   "source": []
  }
 ],
 "metadata": {
  "kernelspec": {
   "display_name": "Python 3",
   "language": "python",
   "name": "python3"
  },
  "language_info": {
   "codemirror_mode": {
    "name": "ipython",
    "version": 3
   },
   "file_extension": ".py",
   "mimetype": "text/x-python",
   "name": "python",
   "nbconvert_exporter": "python",
   "pygments_lexer": "ipython3",
   "version": "3.5.2"
  }
 },
 "nbformat": 4,
 "nbformat_minor": 2
}
