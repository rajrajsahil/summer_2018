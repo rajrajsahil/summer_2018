{
 "cells": [
  {
   "cell_type": "code",
   "execution_count": 1,
   "metadata": {},
   "outputs": [],
   "source": [
    "import numpy as np\n",
    "import data_util\n",
    "import tensorflow as tf\n",
    "import matplotlib.pyplot as plt\n",
    "\n",
    "%matplotlib inline\n",
    "\n",
    "%load_ext autoreload\n",
    "%autoreload 2"
   ]
  },
  {
   "cell_type": "code",
   "execution_count": 2,
   "metadata": {
    "scrolled": true
   },
   "outputs": [
    {
     "name": "stdout",
     "output_type": "stream",
     "text": [
      "Training data shape (10000, 32, 32, 3)\n",
      "Training label shape (10000,)\n"
     ]
    }
   ],
   "source": [
    "DR_dataset_dir = 'diabetic_dataset'\n",
    "X_train,Y_train = data_util.load_dr_dataset(DR_dataset_dir)\n",
    "print('Training data shape',X_train.shape)\n",
    "print('Training label shape',Y_train.shape)\n",
    "batch_size,height,width,channels=X_train.shape\n",
    "filters = np.random.rand(3,3,channels,3)*0.001\n",
    "X_train = X_train - np.mean(X_train,axis = 0)"
   ]
  },
  {
   "cell_type": "code",
   "execution_count": 3,
   "metadata": {},
   "outputs": [
    {
     "name": "stdout",
     "output_type": "stream",
     "text": [
      "(1, 32, 32, 3)\n"
     ]
    },
    {
     "data": {
      "image/png": "[encoded data removed]",
      "text/plain": [
       "<Figure size 432x288 with 1 Axes>"
      ]
     },
     "metadata": {},
     "output_type": "display_data"
    },
    {
     "name": "stdout",
     "output_type": "stream",
     "text": [
      "(1, 16, 16, 3)\n"
     ]
    },
    {
     "data": {
      "image/png": "[encoded data removed]",
      "text/plain": [
       "<Figure size 432x288 with 1 Axes>"
      ]
     },
     "metadata": {},
     "output_type": "display_data"
    },
    {
     "name": "stdout",
     "output_type": "stream",
     "text": [
      "(1, 16, 16, 3)\n"
     ]
    },
    {
     "data": {
      "image/png": "[encoded data removed]",
      "text/plain": [
       "<Figure size 432x288 with 1 Axes>"
      ]
     },
     "metadata": {},
     "output_type": "display_data"
    },
    {
     "name": "stdout",
     "output_type": "stream",
     "text": [
      "(1, 768)\n"
     ]
    }
   ],
   "source": [
    "conv_filter_1 = np.array(filters)\n",
    "X = tf.placeholder(tf.float32)\n",
    "convolution_1 = tf.nn.conv2d(X,conv_filter_1,strides=[1,1,1,1],padding='SAME')\n",
    "with tf.Session() as sess:\n",
    "    output_1 = sess.run(convolution_1,{X:X_train[0:1,:,:,:]})\n",
    "print(output_1.shape)\n",
    "plt.imshow(output_1[0,:,:,0].astype('uint8'))\n",
    "plt.show()\n",
    "max_pool = tf.nn.max_pool(X,ksize=[1,2,2,1],strides=[1,2,2,1],padding=\"VALID\")\n",
    "with tf.Session() as sess:\n",
    "    output_1_pool = sess.run(max_pool,{X:output_1})\n",
    "print(output_1_pool.shape)\n",
    "plt.imshow(output_1_pool[0,:,:,0].astype('uint8'))\n",
    "plt.show()\n",
    "conv_filter_2 = np.array(filters)\n",
    "convolution_2 = tf.nn.conv2d(X,conv_filter_2,strides=[1,1,1,1],padding=\"SAME\")\n",
    "with tf.Session() as sess:\n",
    "    output_2 = sess.run(convolution_2,{X:output_1_pool})\n",
    "print(output_2.shape)\n",
    "plt.imshow(output_2[0,:,:,0].astype('uint8'))\n",
    "plt.show()\n",
    "output_2 = output_2.reshape(output_2.shape[0],-1)\n",
    "print(output_2.shape)\n",
    "num_output_class = 10"
   ]
  },
  {
   "cell_type": "code",
   "execution_count": 30,
   "metadata": {},
   "outputs": [],
   "source": []
  },
  {
   "cell_type": "code",
   "execution_count": 36,
   "metadata": {},
   "outputs": [
    {
     "name": "stdout",
     "output_type": "stream",
     "text": [
      "2.1915708\n",
      "2.1913204\n",
      "2.1910696\n",
      "2.1908185\n",
      "2.190567\n",
      "2.190315\n",
      "2.1900628\n",
      "2.1898103\n",
      "2.189557\n",
      "2.1893039\n"
     ]
    }
   ],
   "source": [
    "weight = tf.Variable(np.random.randn(output_2.shape[1],num_output_class),dtype=np.float32)\n",
    "final_output = tf.reshape(tf.matmul(output_2,weight),(10,))\n",
    "# print(final_output)\n",
    "# print(Y_train[0])\n",
    "softmax = tf.nn.softmax(final_output)\n",
    "softmax_loss = - tf.log(softmax)[Y_train[0]]\n",
    "\n",
    "cross_entropy_gradient = (softmax_loss-1) * final_output\n",
    "learning_rate = 0.05\n",
    "weight_update = tf.assign(weight, weight - learning_rate * cross_entropy_gradient)\n",
    "with tf.Session() as sess:\n",
    "    sess.run(weight.initializer)\n",
    "#     sess.run(softmax)\n",
    "    for i in range(10):\n",
    "        weight = sess.run(weight_update)\n",
    "        print(sess.run(softmax_loss))\n",
    "#     softmax_loss = - np.log(sess.run(softmax))[Y_train[0]]\n"
   ]
  },
  {
   "cell_type": "code",
   "execution_count": null,
   "metadata": {},
   "outputs": [],
   "source": []
  },
  {
   "cell_type": "code",
   "execution_count": 101,
   "metadata": {},
   "outputs": [],
   "source": [
    "gradient = tf.gradients(softmax_loss,weight)\n",
    "session"
   ]
  },
  {
   "cell_type": "code",
   "execution_count": null,
   "metadata": {},
   "outputs": [],
   "source": []
  }
 ],
 "metadata": {
  "kernelspec": {
   "display_name": "Python 3",
   "language": "python",
   "name": "python3"
  },
  "language_info": {
   "codemirror_mode": {
    "name": "ipython",
    "version": 3
   },
   "file_extension": ".py",
   "mimetype": "text/x-python",
   "name": "python",
   "nbconvert_exporter": "python",
   "pygments_lexer": "ipython3",
   "version": "3.5.2"
  }
 },
 "nbformat": 4,
 "nbformat_minor": 2
}
